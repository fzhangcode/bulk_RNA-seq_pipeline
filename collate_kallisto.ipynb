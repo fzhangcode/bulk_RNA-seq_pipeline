{
 "cells": [
  {
   "cell_type": "code",
   "execution_count": 1,
   "id": "electrical-metro",
   "metadata": {},
   "outputs": [
    {
     "name": "stderr",
     "output_type": "stream",
     "text": [
      "Registered S3 method overwritten by 'openssl':\n",
      "  method      from\n",
      "  print.bytes Rcpp\n"
     ]
    }
   ],
   "source": [
    "library(tximport)\n",
    "library(stringr)\n",
    "library(readr)\n",
    "library(biomaRt)"
   ]
  },
  {
   "cell_type": "code",
   "execution_count": 13,
   "id": "engaged-container",
   "metadata": {},
   "outputs": [],
   "source": [
    "# Collate all of the Kallisto output files.\n",
    "files <- Sys.glob(\n",
    "  \"/data/srlab2/fzhang/results/2021-05-03_Helena_bulk_RNA/output/*/abundance.h5\"\n",
    ")\n",
    "names(files) <- sapply(stringr::str_split(files, \"/\"), \"[[\", 8)"
   ]
  },
  {
   "cell_type": "code",
   "execution_count": 17,
   "id": "controlling-prairie",
   "metadata": {},
   "outputs": [
    {
     "name": "stderr",
     "output_type": "stream",
     "text": [
      "\n",
      "\u001b[36m──\u001b[39m \u001b[1m\u001b[1mColumn specification\u001b[1m\u001b[22m \u001b[36m────────────────────────────────────────────────────────────────────────────────────────────────────────────────────────────────────────────────────────────────────────────────────────────────────────────────────────\u001b[39m\n",
      "cols(\n",
      "  X1 = \u001b[31mcol_character()\u001b[39m,\n",
      "  X2 = \u001b[31mcol_character()\u001b[39m,\n",
      "  X3 = \u001b[31mcol_character()\u001b[39m,\n",
      "  X4 = \u001b[31mcol_character()\u001b[39m,\n",
      "  X5 = \u001b[31mcol_character()\u001b[39m,\n",
      "  X6 = \u001b[31mcol_character()\u001b[39m\n",
      ")\n",
      "\n"
     ]
    },
    {
     "data": {
      "text/html": [
       "<table>\n",
       "<thead><tr><th scope=col>transcript_id</th><th scope=col>gene_id</th></tr></thead>\n",
       "<tbody>\n",
       "\t<tr><td>ENST00000448914.1</td><td>ENSG00000228985  </td></tr>\n",
       "\t<tr><td>ENST00000415118.1</td><td>ENSG00000223997  </td></tr>\n",
       "\t<tr><td>ENST00000632684.1</td><td>ENSG00000282431  </td></tr>\n",
       "\t<tr><td>ENST00000434970.2</td><td>ENSG00000237235  </td></tr>\n",
       "</tbody>\n",
       "</table>\n"
      ],
      "text/latex": [
       "\\begin{tabular}{r|ll}\n",
       " transcript\\_id & gene\\_id\\\\\n",
       "\\hline\n",
       "\t ENST00000448914.1 & ENSG00000228985  \\\\\n",
       "\t ENST00000415118.1 & ENSG00000223997  \\\\\n",
       "\t ENST00000632684.1 & ENSG00000282431  \\\\\n",
       "\t ENST00000434970.2 & ENSG00000237235  \\\\\n",
       "\\end{tabular}\n"
      ],
      "text/markdown": [
       "\n",
       "| transcript_id | gene_id |\n",
       "|---|---|\n",
       "| ENST00000448914.1 | ENSG00000228985   |\n",
       "| ENST00000415118.1 | ENSG00000223997   |\n",
       "| ENST00000632684.1 | ENSG00000282431   |\n",
       "| ENST00000434970.2 | ENSG00000237235   |\n",
       "\n"
      ],
      "text/plain": [
       "  transcript_id     gene_id        \n",
       "1 ENST00000448914.1 ENSG00000228985\n",
       "2 ENST00000415118.1 ENSG00000223997\n",
       "3 ENST00000632684.1 ENSG00000282431\n",
       "4 ENST00000434970.2 ENSG00000237235"
      ]
     },
     "metadata": {},
     "output_type": "display_data"
    }
   ],
   "source": [
    "# Dataframe with 2 columns: transcript_id, gene_id\n",
    "genes <- read_tsv(\n",
    "  file = \"/data/srlab/public/srcollab/AMP/amp_phase1_ra/validation_data/Homo_sapiens.GRCh38.cdna.lincrna.filtered.tsv.gz\",\n",
    "  col_names = FALSE\n",
    ")\n",
    "genes <- genes[,c(\"X1\", \"X4\")]\n",
    "colnames(genes) <- c(\"transcript_id\", \"gene_id\")\n",
    "genes$transcript_id <- str_replace(genes$transcript_id, \">\", \"\")\n",
    "genes$gene_id <- str_replace(genes$gene_id, \"gene:\", \"\")\n",
    "genes$gene_id <- str_replace(genes$gene_id, \"\\\\.\\\\d+$\", \"\")\n",
    "genes[1:4,]"
   ]
  },
  {
   "cell_type": "code",
   "execution_count": 19,
   "id": "loose-avenue",
   "metadata": {},
   "outputs": [],
   "source": [
    "# genes_tsv <- \"Homo_sapiens.GRCh38.cdna.lincrna.filtered.genes.tsv.gz\"\n",
    "# if (!file.exists(genes_tsv)) {\n",
    "#   # Convert Ensembl IDs to HGNC gene symbols.\n",
    "#   mart <- useDataset(\"hsapiens_gene_ensembl\", useMart(\"ensembl\"))\n",
    "\n",
    "#   bm <- getBM(\n",
    "#     filters    = \"ensembl_gene_id\",\n",
    "#     attributes = c(\"ensembl_gene_id\",\"hgnc_symbol\"),\n",
    "#     values     = genes$gene_id,\n",
    "#     mart       = mart\n",
    "#   )\n",
    "\n",
    "#   x <- merge(\n",
    "#     x    = genes,\n",
    "#     y    = bm,\n",
    "#     by.x = \"gene_id\",\n",
    "#     by.y = \"ensembl_gene_id\",\n",
    "#     all  = TRUE\n",
    "#   )\n",
    "\n",
    "#   write_tsv(x, genes_tsv)\n",
    "# }\n"
   ]
  },
  {
   "cell_type": "code",
   "execution_count": 20,
   "id": "divided-miami",
   "metadata": {},
   "outputs": [
    {
     "name": "stderr",
     "output_type": "stream",
     "text": [
      "1 2 3 4 5 6 7 8 9 10 11 12 13 14 15 16 17 18 19 20 21 22 23 24 25 26 27 28 29 30 31 32 33 34 35 36 37 38 39 40 41 42 43 44 45 46 47 48 49 50 51 52 53 54 55 56 57 58 59 60 61 62 63 64 65 66 67 68 69 70 71 72 73 74 75 76 77 78 79 80 81 82 83 84 85 86 87 88 89 90 91 92 93 94 95 96 \n",
      "summarizing abundance\n",
      "summarizing counts\n",
      "summarizing length\n"
     ]
    }
   ],
   "source": [
    "# Read files and collapse to gene level.\n",
    "txi <- tximport(files, type = \"kallisto\", tx2gene = genes)\n"
   ]
  },
  {
   "cell_type": "code",
   "execution_count": 21,
   "id": "suffering-faculty",
   "metadata": {},
   "outputs": [],
   "source": [
    "# Save the whole object.\n",
    "saveRDS(txi, \"bulk_ensembl83_txi.rds\")"
   ]
  },
  {
   "cell_type": "code",
   "execution_count": null,
   "id": "disabled-thesis",
   "metadata": {},
   "outputs": [],
   "source": []
  }
 ],
 "metadata": {
  "kernelspec": {
   "display_name": "R [conda env:root] *",
   "language": "R",
   "name": "conda-root-r"
  },
  "language_info": {
   "codemirror_mode": "r",
   "file_extension": ".r",
   "mimetype": "text/x-r-source",
   "name": "R",
   "pygments_lexer": "r",
   "version": "3.6.3"
  }
 },
 "nbformat": 4,
 "nbformat_minor": 5
}
